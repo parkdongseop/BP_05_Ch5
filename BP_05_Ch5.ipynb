{
  "nbformat": 4,
  "nbformat_minor": 0,
  "metadata": {
    "colab": {
      "provenance": [],
      "authorship_tag": "ABX9TyPLGbTMPaZbBoG6w1hGyW6h",
      "include_colab_link": true
    },
    "kernelspec": {
      "name": "python3",
      "display_name": "Python 3"
    },
    "language_info": {
      "name": "python"
    }
  },
  "cells": [
    {
      "cell_type": "markdown",
      "metadata": {
        "id": "view-in-github",
        "colab_type": "text"
      },
      "source": [
        "<a href=\"https://colab.research.google.com/github/parkdongseop/BP_05_Ch5/blob/main/BP_05_Ch5.ipynb\" target=\"_parent\"><img src=\"https://colab.research.google.com/assets/colab-badge.svg\" alt=\"Open In Colab\"/></a>"
      ]
    },
    {
      "cell_type": "markdown",
      "source": [
        "1 다음 프로그램의 출력은 무엇인가?\n",
        "age = 20\n",
        "if age < 20:\n",
        "   print('20살 미만')\n",
        "else:\n",
        "   print('20살 이상')\n",
        "\n"
      ],
      "metadata": {
        "id": "mgVkRv4OSh4W"
      }
    },
    {
      "cell_type": "code",
      "source": [
        "age = 20\n",
        "if age < 20:\n",
        "   print('20살 미만')\n",
        "else:\n",
        "   print('20살 이상')"
      ],
      "metadata": {
        "colab": {
          "base_uri": "https://localhost:8080/"
        },
        "id": "Njxpi5jETmVJ",
        "outputId": "bcd1bc20-bbfc-49d3-d82e-8b8a618fac95"
      },
      "execution_count": 2,
      "outputs": [
        {
          "output_type": "stream",
          "name": "stdout",
          "text": [
            "20살 이상\n"
          ]
        }
      ]
    },
    {
      "cell_type": "markdown",
      "source": [
        "2 1번 문제에서 age가 30이상이고 50이하인 것을 체크하려면 어떻게 하여야 하는가?"
      ],
      "metadata": {
        "id": "NJ6ToYH4UHxj"
      }
    },
    {
      "cell_type": "code",
      "source": [
        "age = int(input(\"나이를 입력해주세요 : \"))\n",
        "if age >= 30 and age <= 50: #논리연산자(and)를 이용!\n",
        "    print(\"30살 이상 50살 이하\")\n",
        "else:\n",
        "    print(\"30살 이상 50살 이하를 제외한 나머지\")"
      ],
      "metadata": {
        "colab": {
          "base_uri": "https://localhost:8080/"
        },
        "id": "Qhu-C-CmUmjf",
        "outputId": "b455d43a-8682-4bc8-b7dc-99b681dcfd71"
      },
      "execution_count": 4,
      "outputs": [
        {
          "output_type": "stream",
          "name": "stdout",
          "text": [
            "나이를 입력해주세요 : 50\n",
            "30살 이상 50살 이하\n"
          ]
        }
      ]
    },
    {
      "cell_type": "markdown",
      "source": [
        "3. 사용자에게 현재 온도를 질문하고 온도가 25도 이상이면 반바지를 추천하고 25도 미만이면 긴바지를 추천하는 프로그램을 작성해보자."
      ],
      "metadata": {
        "id": "INbJvicLVkEp"
      }
    },
    {
      "cell_type": "code",
      "source": [
        "temp = int(input(\"현재 온도를 입력하시오 : \"))\n",
        " \n",
        "if temp >= 25:\n",
        "    print(\"반바지를 입으세요\")\n",
        "elif temp < 25:\n",
        "    print(\"긴바지를 입으세요\")"
      ],
      "metadata": {
        "colab": {
          "base_uri": "https://localhost:8080/"
        },
        "id": "1OtBMo0cWr56",
        "outputId": "b4594164-da4e-4384-f407-0261f4302687"
      },
      "execution_count": 5,
      "outputs": [
        {
          "output_type": "stream",
          "name": "stdout",
          "text": [
            "현재 온도를 입력하시오 : 20\n",
            "긴바지를 입으세요\n"
          ]
        }
      ]
    },
    {
      "cell_type": "markdown",
      "source": [
        "4. 학생의 시험 점수를 물어보고 시험 점수가 90점 이상이면 A, 80점 이상이면 B, 70점 이상이면 C, 60점 이상이면 D, 그 외의 점수이면 F를 학점으로 주는 프로그램을 작성하라."
      ],
      "metadata": {
        "id": "xPfXwEXIWxjl"
      }
    },
    {
      "cell_type": "code",
      "source": [
        "score = int(input(\"성적을 입력하시오 : \"))\n",
        " \n",
        "if score > 100:\n",
        "    print(\"범위에 없습니다\")\n",
        "elif score >= 90:\n",
        "    print(\"A\")\n",
        "elif score >= 80:\n",
        "    print(\"B\")\n",
        "elif score >= 70:\n",
        "    print(\"C\")\n",
        "elif score >= 60:\n",
        "    print(\"D\")\n",
        "elif 60 > score >= 0:\n",
        "    print(\"F\")\n",
        "else :\n",
        "    print(\"범위에 없습니다.\")"
      ],
      "metadata": {
        "colab": {
          "base_uri": "https://localhost:8080/"
        },
        "id": "h0p04_7vXNk_",
        "outputId": "fa8091f3-d9f8-479e-a5e7-b2088c0d13ef"
      },
      "execution_count": 6,
      "outputs": [
        {
          "output_type": "stream",
          "name": "stdout",
          "text": [
            "성적을 입력하시오 : 90\n",
            "A\n"
          ]
        }
      ]
    },
    {
      "cell_type": "markdown",
      "source": [
        "5. 난수를 사용하여 1부터 100 사이의 숫자를 사용하는 뺄셈 문제를 생성하고 사용자에게 물어본 후에 사용자의 답변이 올바른지를 검사하는 프로그램을 작성하라."
      ],
      "metadata": {
        "id": "BBqyWUGxXbtq"
      }
    },
    {
      "cell_type": "code",
      "source": [
        "import random\n",
        " \n",
        "x = random.randint(1, 100)\n",
        "y = random.randint(1, 100)\n",
        " \n",
        "total =int(input(str(x) + \"-\" + str(y) + \"=\"))\n",
        "if total == x - y :\n",
        "    print(\"맞았습니다.\")\n",
        "else :\n",
        "    print(\"틀렸습니다.\")\n",
        " \n",
        " "
      ],
      "metadata": {
        "colab": {
          "base_uri": "https://localhost:8080/"
        },
        "id": "hFhLxqgbX16T",
        "outputId": "9f824b07-f946-4ab9-e385-a0911856ac48"
      },
      "execution_count": 7,
      "outputs": [
        {
          "output_type": "stream",
          "name": "stdout",
          "text": [
            "32-11=21\n",
            "맞았습니다.\n"
          ]
        }
      ]
    },
    {
      "cell_type": "markdown",
      "source": [
        "6. 사용자로부터 정수를 받아서 이 정수가 2와 3으로 나누어 떨어질 수 있는지를 출력하라."
      ],
      "metadata": {
        "id": "u2ui9aW_YLOS"
      }
    },
    {
      "cell_type": "code",
      "source": [
        "n = int(input(\"정수를 입력하시오 : \"))\n",
        " \n",
        "if n%2==0 and n%3==0:\n",
        "    print(\"2와 3으로 나누어 떨어집니다.\")\n",
        "else:\n",
        "    print(\"2와 3으로 나누어 떨어지지 않습니다.\")"
      ],
      "metadata": {
        "colab": {
          "base_uri": "https://localhost:8080/"
        },
        "id": "NmKsYzu-YUFX",
        "outputId": "2e385f30-623e-4cf1-e391-a73b3fece93f"
      },
      "execution_count": 8,
      "outputs": [
        {
          "output_type": "stream",
          "name": "stdout",
          "text": [
            "정수를 입력하시오 : 32\n",
            "2와 3으로 나누어 떨어지지 않습니다.\n"
          ]
        }
      ]
    },
    {
      "cell_type": "markdown",
      "source": [
        "7. 2자리 숫자로 이루어진 복권이 있다. 사용자가 가지고 있는 복권 번호가 2자리 모두 일치하면 100만 원을 받는다. 2자리 중에서 하나만 일치하면 50만 원을 받는다. 하나도 일치하지 않으면 상금은 없다. 복권 당첨 번호는 난수로 생성하고 사용자의 입력에 따라서 상금이 얼마인지를 출력하는 프로그램을 작성하라."
      ],
      "metadata": {
        "id": "CnraAT94Ydwb"
      }
    },
    {
      "cell_type": "code",
      "source": [
        "import random\n",
        " \n",
        "Lotto = random.randint(0, 99)\n",
        " \n",
        "pick = int(input(\"복권 번호를 입력하시오(0에서 99사이):\"))\n",
        "print(\"당첨번호는\", Lotto, \"입니다.\")\n",
        " \n",
        "digit1 = Lotto // 10\n",
        "digit2 = Lotto % 10\n",
        " \n",
        "pickNum1 = pick // 10\n",
        "pickNum2 = pick % 10\n",
        " \n",
        "if pick == Lotto:\n",
        "    print(\"상금은 100만원입니다.\")\n",
        "elif (digit1 == pickNum1) or (digit1 == pickNum2) or (digit2 == pickNum1) or (digit2 == pickNum2) :\n",
        "    print(\"상금은 50만원입니다.\")\n",
        "else:\n",
        "    print(\"상금은 없습니다.\")"
      ],
      "metadata": {
        "colab": {
          "base_uri": "https://localhost:8080/"
        },
        "id": "JPPFRwZ5YkKY",
        "outputId": "bc96f23c-3bf6-4b89-b306-55c755bfd411"
      },
      "execution_count": 9,
      "outputs": [
        {
          "output_type": "stream",
          "name": "stdout",
          "text": [
            "복권 번호를 입력하시오(0에서 99사이):7\n",
            "당첨번호는 63 입니다.\n",
            "상금은 없습니다.\n"
          ]
        }
      ]
    },
    {
      "cell_type": "markdown",
      "source": [
        "8. 사용자로부터 2개의 원에 대한 정보를 받아서 화면에 원을 그린 후에 조건문을 사용하여 큰 원 안에 작은 원이 포함되는지를 판단하는 프로그램을 작성하라."
      ],
      "metadata": {
        "id": "pXeaaeVmY1bF"
      }
    },
    {
      "cell_type": "code",
      "source": [
        "import turtle\n",
        "t = turtle.Turtle()\n",
        "t.shape(\"turtle\")\n",
        " \n",
        "x1 = int(input(\"큰 원의 중심좌표 x1 : \"))\n",
        "y1 = int(input(\"큰 원의 중심좌표 y1 : \"))\n",
        "bigC = int(input(\"큰 원의 반지름 : \"))\n",
        " \n",
        "x2 = int(input(\"작은 원의 중심좌표 x2 : \"))\n",
        "y2 = int(input(\"작은 원의 중심좌표 y2 : \"))\n",
        "smallC = int(input(\"작은 원의 반지름 : \"))\n",
        " \n",
        "t.up()\n",
        "t.goto(x1,y1)\n",
        "t.down()\n",
        "t.circle(bigC)\n",
        " \n",
        "t.up()\n",
        "t.goto(x2, y2)\n",
        "t.down()\n",
        "t.circle(smallC)\n",
        " \n",
        "dist = ((x1-x2)**2 + (y1-y2)**2)**0.5\n",
        " \n",
        "if dist > bigC+smallC:\n",
        "    print(\"두번째 원이 첫번째 원의 내부에 없습니다.\")\n",
        "else:\n",
        "    print(\"두번째 원이 첫번째 원의 내부에 있습니다.\")"
      ],
      "metadata": {
        "id": "_IgkzXsAY_uV"
      },
      "execution_count": null,
      "outputs": []
    }
  ]
}